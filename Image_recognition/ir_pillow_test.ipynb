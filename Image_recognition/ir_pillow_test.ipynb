{
 "cells": [
  {
   "cell_type": "markdown",
   "metadata": {},
   "source": [
    "# Assignment 1: Building a Better Contact Sheet"
   ]
  },
  {
   "cell_type": "code",
   "execution_count": 1,
   "metadata": {},
   "outputs": [],
   "source": [
    "#import PIL\n",
    "from PIL import Image\n",
    "from PIL import ImageEnhance\n",
    "from PIL import ImageColor\n",
    "from PIL import ImageDraw\n",
    "from PIL import ImageFont"
   ]
  },
  {
   "cell_type": "code",
   "execution_count": 12,
   "metadata": {},
   "outputs": [],
   "source": [
    "# read image and convert to RGB\n",
    "image=Image.open(\"readonly/msi_recruitment.gif\")\n",
    "image=image.convert('RGB')"
   ]
  },
  {
   "cell_type": "code",
   "execution_count": 13,
   "metadata": {},
   "outputs": [],
   "source": [
    "images=[]\n",
    "modifications={1:0.1, 2:0.5, 3:0.9}\n",
    "tfont = ImageFont.truetype(\"fanwood-webfont.ttf\", 40)\n",
    "x = 0\n",
    "y = 0"
   ]
  },
  {
   "cell_type": "code",
   "execution_count": 14,
   "metadata": {},
   "outputs": [],
   "source": [
    "pos = []\n",
    "for ix in range(0, image.width):\n",
    "    for iy in range(0,image.height):\n",
    "        x = ix\n",
    "        y = iy\n",
    "        pos.append((x,y))"
   ]
  },
  {
   "cell_type": "code",
   "execution_count": 15,
   "metadata": {},
   "outputs": [],
   "source": [
    "for mod in modifications:\n",
    "    picture_new = Image.new('RGB', (image.width, 500))\n",
    "    ImageDraw.Draw(picture_new).text((0,450), 'channel 0 intensity {}'.format(modifications[mod]),fill=(255,255,255), font = tfont)\n",
    "    for tup in pos:\n",
    "        (r, g, b) = image.getpixel(tup)\n",
    "        x = int(r*modifications[mod])\n",
    "        picture_new.putpixel(tup, (x, g, b))\n",
    "    images.append(picture_new)\n",
    "    "
   ]
  },
  {
   "cell_type": "code",
   "execution_count": 16,
   "metadata": {},
   "outputs": [],
   "source": [
    "for mod in modifications:\n",
    "    picture_new = Image.new('RGB', (image.width, 500))\n",
    "    ImageDraw.Draw(picture_new).text((0,450), 'channel 1 intensity {}'.format(modifications[mod]),fill=(255,255,255), font = tfont)\n",
    "    for tup in pos:\n",
    "        (r, g, b) = image.getpixel(tup)\n",
    "        x = int(g*modifications[mod])\n",
    "        picture_new.putpixel(tup, (r, x, b))\n",
    "    images.append(picture_new)\n",
    "    "
   ]
  },
  {
   "cell_type": "code",
   "execution_count": null,
   "metadata": {},
   "outputs": [],
   "source": [
    "for mod in modifications:\n",
    "    picture_new = Image.new('RGB', (image.width, 500))\n",
    "    ImageDraw.Draw(picture_new).text((0,450), 'channel 2 intensity {}'.format(modifications[mod]),fill=(255,255,255), font = tfont)\n",
    "    for tup in pos:\n",
    "        (r, g, b) = image.getpixel(tup)\n",
    "        x = int(b*modifications[mod])\n",
    "        picture_new.putpixel(tup, (r, g, x))\n",
    "    images.append(picture_new)"
   ]
  },
  {
   "cell_type": "code",
   "execution_count": null,
   "metadata": {},
   "outputs": [],
   "source": [
    "first_image=images[0]\n",
    "contact_sheet=PIL.Image.new(first_image.mode, (first_image.width*3,first_image.height*3))\n",
    "x=0\n",
    "y=0"
   ]
  },
  {
   "cell_type": "code",
   "execution_count": null,
   "metadata": {},
   "outputs": [],
   "source": [
    "for img in images:\n",
    "    contact_sheet.paste(img, (x, y) )\n",
    "    if x+first_image.width == contact_sheet.width:\n",
    "        x=0\n",
    "        y=y+first_image.height\n",
    "    else:\n",
    "        x=x+first_image.width"
   ]
  },
  {
   "cell_type": "code",
   "execution_count": null,
   "metadata": {
    "scrolled": true
   },
   "outputs": [],
   "source": [
    "contact_sheet = contact_sheet.resize((int(contact_sheet.width/2),int(contact_sheet.height/2) ))\n",
    "display(contact_sheet)"
   ]
  },
  {
   "cell_type": "code",
   "execution_count": null,
   "metadata": {},
   "outputs": [],
   "source": []
  },
  {
   "cell_type": "code",
   "execution_count": null,
   "metadata": {},
   "outputs": [],
   "source": []
  },
  {
   "cell_type": "code",
   "execution_count": null,
   "metadata": {},
   "outputs": [],
   "source": []
  }
 ],
 "metadata": {
  "kernelspec": {
   "display_name": "Python 3",
   "language": "python",
   "name": "python3"
  },
  "language_info": {
   "codemirror_mode": {
    "name": "ipython",
    "version": 3
   },
   "file_extension": ".py",
   "mimetype": "text/x-python",
   "name": "python",
   "nbconvert_exporter": "python",
   "pygments_lexer": "ipython3",
   "version": "3.7.6"
  }
 },
 "nbformat": 4,
 "nbformat_minor": 2
}
