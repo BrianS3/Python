{
 "cells": [
  {
   "cell_type": "code",
   "execution_count": null,
   "metadata": {},
   "outputs": [],
   "source": [
    "list1 = input('Enter List 1').split()\n",
    "list2 = input('Enter List 2').split()\n",
    "\n",
    "\n",
    "def compare_lists(control, test):\n",
    "    diff1 = set(test) - set(control)\n",
    "    if len(diff1)==0:\n",
    "        print('All values in Test are in Control')\n",
    "    else:\n",
    "        print('''Values in Test that are not in Control:\n",
    "        ''',diff1)\n",
    "    \n",
    "    diff2 = set(control) - set(test)\n",
    "    if len(diff2) == 0:\n",
    "        print('All values in Control are in Test')\n",
    "    else:\n",
    "        print('''Values in Control that are not in Test:\n",
    "        ''',diff2) \n",
    "        \n",
    "compare_lists(list1,list2)"
   ]
  }
 ],
 "metadata": {
  "kernelspec": {
   "display_name": "Python 3",
   "language": "python",
   "name": "python3"
  },
  "language_info": {
   "codemirror_mode": {
    "name": "ipython",
    "version": 3
   },
   "file_extension": ".py",
   "mimetype": "text/x-python",
   "name": "python",
   "nbconvert_exporter": "python",
   "pygments_lexer": "ipython3",
   "version": "3.8.3"
  }
 },
 "nbformat": 4,
 "nbformat_minor": 4
}
