{
 "cells": [
  {
   "cell_type": "code",
   "execution_count": 2,
   "metadata": {},
   "outputs": [
    {
     "name": "stdout",
     "output_type": "stream",
     "text": [
      "Enter List 1ANS20-010 MED20-179 RADONC20-014 MED20-182 RAD20-016 MED20-195 MED20-196 MED20-218 MED20-224 MED20-227 RAD20-019 MED20-234 MED20-235 MED20-238 MED20-244 MED20-245 MED20-246 MED20-248 MED20-250 MED20-254 MED20-258 SURG20-026 SURG20-027 MED20-260 MED20-261 RAD20-021 SURG20-028 RADONC20-018 MED20-262 MED20-264 MED20-265 MED20-266 MED20-269 MED20-270 MED20-271 MED20-274 PSY20-013 MED20-275\n",
      "Enter List 2ANS20-010 ANS20-010 ANS20-010 MED20-179 MED20-179 MED20-182 MED20-182 MED20-195 MED20-195 MED20-196 MED20-196 MED20-218 MED20-224 MED20-227 MED20-234 MED20-235 MED20-238 MED20-245 MED20-248 MED20-250 MED20-258 MED20-261 RAD20-016 RAD20-016 RAD20-016 RAD20-019 RADONC20-014 RADONC20-014 SURG20-026 SURG20-027 SURG20-028\n",
      "All values in Test are in Control\n",
      "Values in Control that are not in Test:\n",
      "         {'MED20-274', 'MED20-271', 'MED20-246', 'MED20-260', 'PSY20-013', 'MED20-269', 'MED20-244', 'MED20-266', 'MED20-262', 'RADONC20-018', 'MED20-254', 'RAD20-021', 'MED20-264', 'MED20-275', 'MED20-270', 'MED20-265'}\n",
      "Values in Test that are not in Control:\n",
      "         {'MED20-274', 'MED20-271', 'MED20-246', 'MED20-260', 'PSY20-013', 'MED20-269', 'MED20-244', 'MED20-266', 'MED20-262', 'RADONC20-018', 'MED20-254', 'RAD20-021', 'MED20-264', 'MED20-275', 'MED20-270', 'MED20-265'}\n",
      "All values in Control are in Test\n"
     ]
    }
   ],
   "source": [
    "list1 = input('Enter List 1').split()\n",
    "list2 = input('Enter List 2').split()\n",
    "\n",
    "\n",
    "def compare_lists(control, test):\n",
    "    diff1 = set(test) - set(control)\n",
    "    if len(diff1)==0:\n",
    "        print('All values in Test are in Control')\n",
    "    else:\n",
    "        print('''Values in Test that are not in Control:\n",
    "        ''',diff1)\n",
    "    \n",
    "    diff2 = set(control) - set(test)\n",
    "    if len(diff2) == 0:\n",
    "        print('All values in Control are in Test')\n",
    "    else:\n",
    "        print('''Values in Control that are not in Test:\n",
    "        ''',diff2) \n",
    "        \n",
    "compare_lists(list1,list2)"
   ]
  }
 ],
 "metadata": {
  "kernelspec": {
   "display_name": "Python 3",
   "language": "python",
   "name": "python3"
  },
  "language_info": {
   "codemirror_mode": {
    "name": "ipython",
    "version": 3
   },
   "file_extension": ".py",
   "mimetype": "text/x-python",
   "name": "python",
   "nbconvert_exporter": "python",
   "pygments_lexer": "ipython3",
   "version": "3.7.6"
  }
 },
 "nbformat": 4,
 "nbformat_minor": 4
}
