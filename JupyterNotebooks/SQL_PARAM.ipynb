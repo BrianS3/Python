{
 "cells": [
  {
   "cell_type": "code",
   "execution_count": 17,
   "metadata": {},
   "outputs": [
    {
     "name": "stdout",
     "output_type": "stream",
     "text": [
      "Enter Query ParameterANS20-010 MED20-179 RADONC20-014 MED20-182 RAD20-016 MED20-195 MED20-196 MED20-218 MED20-224 MED20-227 RAD20-019 MED20-234 MED20-235 MED20-238 MED20-244 MED20-245 MED20-246 MED20-248 MED20-250 MED20-254 MED20-258 SURG20-026 SURG20-027 MED20-260 MED20-261 RAD20-021 SURG20-028 RADONC20-018 MED20-262 MED20-264 MED20-265 MED20-266 MED20-269 MED20-270 MED20-271 MED20-274 PSY20-013 MED20-275\n"
     ]
    }
   ],
   "source": [
    "from tkinter import Tk\n",
    "r = Tk()\n",
    "r.withdraw()\n",
    "\n",
    "param = input('Enter Query Parameter')\n",
    "\n",
    "count = len(param.split())\n",
    "output = []\n",
    "for x in param.split():\n",
    "    if count>1:\n",
    "        output.append(\"'\" + x + \"'\" + \",\")\n",
    "    else:\n",
    "        output.append(\"'\" + x + \"'\")\n",
    "    count-=1"
   ]
  },
  {
   "cell_type": "code",
   "execution_count": 18,
   "metadata": {},
   "outputs": [],
   "source": [
    "r.clipboard_append(output)"
   ]
  },
  {
   "cell_type": "code",
   "execution_count": 19,
   "metadata": {},
   "outputs": [],
   "source": [
    "r.update()"
   ]
  }
 ],
 "metadata": {
  "kernelspec": {
   "display_name": "Python 3",
   "language": "python",
   "name": "python3"
  },
  "language_info": {
   "codemirror_mode": {
    "name": "ipython",
    "version": 3
   },
   "file_extension": ".py",
   "mimetype": "text/x-python",
   "name": "python",
   "nbconvert_exporter": "python",
   "pygments_lexer": "ipython3",
   "version": "3.7.6"
  }
 },
 "nbformat": 4,
 "nbformat_minor": 4
}
