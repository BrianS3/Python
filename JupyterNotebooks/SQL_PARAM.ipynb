{
 "cells": [
  {
   "cell_type": "code",
   "execution_count": 1,
   "metadata": {},
   "outputs": [
    {
     "name": "stdout",
     "output_type": "stream",
     "text": [
      "Enter Query Parameter50852 51898 54168 54169 64458 64870 65700 66453 66431 66853 68448 69541 70917 70911 70920 71247 71260 70912 70913 70925 70919 70924 71238 71240 71261 70732 71532 72371 72858 73224 76290 76903 79306 80108 83448 85095 85908 86510 87144 89876 90160 90474 92823 92674 92900 95114 95228 95865 96270 96755 96860 96862 96861 97572 99092 99109 99983 100763 100873 100917 101265 102508 103376 103398 103400 103394 104135 104480 104638 104701 104713 106119 197208\n"
     ]
    }
   ],
   "source": [
    "from tkinter import Tk\n",
    "r = Tk()\n",
    "r.withdraw()\n",
    "\n",
    "param = input('Enter Query Parameter')\n",
    "\n",
    "count = len(param.split())\n",
    "output = []\n",
    "for x in param.split():\n",
    "    if count>1:\n",
    "        output.append(\"'\" + x + \"'\" + \",\")\n",
    "    else:\n",
    "        output.append(\"'\" + x + \"'\")\n",
    "    count-=1"
   ]
  },
  {
   "cell_type": "code",
   "execution_count": 2,
   "metadata": {},
   "outputs": [],
   "source": [
    "r.clipboard_append(output)"
   ]
  },
  {
   "cell_type": "code",
   "execution_count": 3,
   "metadata": {},
   "outputs": [],
   "source": [
    "r.update()"
   ]
  }
 ],
 "metadata": {
  "kernelspec": {
   "display_name": "Python 3",
   "language": "python",
   "name": "python3"
  },
  "language_info": {
   "codemirror_mode": {
    "name": "ipython",
    "version": 3
   },
   "file_extension": ".py",
   "mimetype": "text/x-python",
   "name": "python",
   "nbconvert_exporter": "python",
   "pygments_lexer": "ipython3",
   "version": "3.8.3"
  }
 },
 "nbformat": 4,
 "nbformat_minor": 4
}
